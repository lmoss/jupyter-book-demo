{
  "cells": [
    {
      "cell_type": "markdown",
      "metadata": {
        "colab_type": "text",
        "id": "view-in-github"
      },
      "source": [
        "<a href=\"https://colab.research.google.com/github/lmoss/onesharp/blob/main/introOneSharp/move_copy_write.ipynb\" target=\"_parent\"><img src=\"https://colab.research.google.com/assets/colab-badge.svg\" alt=\"Open In Colab\"/></a>"
      ]
    },
    {
      "cell_type": "markdown",
      "metadata": {
        "id": "8C7LMBIh5Hmr"
      },
      "source": [
        "# Simple programs\n",
        "\n",
        "We have seen the syntax of $\\one\\hash$ instructions \n",
        "[in a previous notebook](syntax-summary).\n",
        "We turn to the simplest programs in the language."
      ]
    },
    {
      "cell_type": "code",
      "execution_count": 1,
      "metadata": {
        "id": "ZUEj49fx7gDq"
      },
      "outputs": [
        {
          "name": "stdout",
          "output_type": "stream",
          "text": [
            "Requirement already satisfied: setuptools in /Users/lsm/Dropbox/book2025/jupyter-book-demo/.venv/lib/python3.8/site-packages (75.3.0)\n",
            "Collecting git+https://github.com/lmoss/onesharp.git@main\n",
            "  Cloning https://github.com/lmoss/onesharp.git (to revision main) to /private/var/folders/kt/458_ttf57hvdmjpsh88m1fzh0000gp/T/pip-req-build-i56jcru4\n",
            "  Running command git clone --filter=blob:none --quiet https://github.com/lmoss/onesharp.git /private/var/folders/kt/458_ttf57hvdmjpsh88m1fzh0000gp/T/pip-req-build-i56jcru4\n",
            "  warning: the following paths have collided (e.g. case-sensitive paths\n",
            "  on a case-insensitive filesystem) and only one from the same\n",
            "  colliding group is in the working tree:\n",
            "\n",
            "    'T_predicate.ipynb'\n",
            "    't_predicate.ipynb'\n",
            "  Resolved https://github.com/lmoss/onesharp.git to commit 497ee485ba27d26f4de2d74c1b7be40e0f42ba81\n",
            "  Installing build dependencies ... \u001b[?25ldone\n",
            "\u001b[?25h  Getting requirements to build wheel ... \u001b[?25ldone\n",
            "\u001b[?25h  Preparing metadata (pyproject.toml) ... \u001b[?25ldone\n",
            "\u001b[?25hRequirement already satisfied: numpy in /Users/lsm/Dropbox/book2025/jupyter-book-demo/.venv/lib/python3.8/site-packages (from onesharp==0.0.0) (1.24.4)\n",
            "Requirement already satisfied: pandas in /Users/lsm/Dropbox/book2025/jupyter-book-demo/.venv/lib/python3.8/site-packages (from onesharp==0.0.0) (2.0.3)\n",
            "Requirement already satisfied: IPython in /Users/lsm/Dropbox/book2025/jupyter-book-demo/.venv/lib/python3.8/site-packages (from onesharp==0.0.0) (8.12.3)\n",
            "Requirement already satisfied: backcall in /Users/lsm/Dropbox/book2025/jupyter-book-demo/.venv/lib/python3.8/site-packages (from IPython->onesharp==0.0.0) (0.2.0)\n",
            "Requirement already satisfied: decorator in /Users/lsm/Dropbox/book2025/jupyter-book-demo/.venv/lib/python3.8/site-packages (from IPython->onesharp==0.0.0) (5.1.1)\n",
            "Requirement already satisfied: jedi>=0.16 in /Users/lsm/Dropbox/book2025/jupyter-book-demo/.venv/lib/python3.8/site-packages (from IPython->onesharp==0.0.0) (0.19.2)\n",
            "Requirement already satisfied: matplotlib-inline in /Users/lsm/Dropbox/book2025/jupyter-book-demo/.venv/lib/python3.8/site-packages (from IPython->onesharp==0.0.0) (0.1.7)\n",
            "Requirement already satisfied: pickleshare in /Users/lsm/Dropbox/book2025/jupyter-book-demo/.venv/lib/python3.8/site-packages (from IPython->onesharp==0.0.0) (0.7.5)\n",
            "Requirement already satisfied: prompt-toolkit!=3.0.37,<3.1.0,>=3.0.30 in /Users/lsm/Dropbox/book2025/jupyter-book-demo/.venv/lib/python3.8/site-packages (from IPython->onesharp==0.0.0) (3.0.48)\n",
            "Requirement already satisfied: pygments>=2.4.0 in /Users/lsm/Dropbox/book2025/jupyter-book-demo/.venv/lib/python3.8/site-packages (from IPython->onesharp==0.0.0) (2.18.0)\n",
            "Requirement already satisfied: stack-data in /Users/lsm/Dropbox/book2025/jupyter-book-demo/.venv/lib/python3.8/site-packages (from IPython->onesharp==0.0.0) (0.6.3)\n",
            "Requirement already satisfied: traitlets>=5 in /Users/lsm/Dropbox/book2025/jupyter-book-demo/.venv/lib/python3.8/site-packages (from IPython->onesharp==0.0.0) (5.14.3)\n",
            "Requirement already satisfied: typing-extensions in /Users/lsm/Dropbox/book2025/jupyter-book-demo/.venv/lib/python3.8/site-packages (from IPython->onesharp==0.0.0) (4.12.2)\n",
            "Requirement already satisfied: pexpect>4.3 in /Users/lsm/Dropbox/book2025/jupyter-book-demo/.venv/lib/python3.8/site-packages (from IPython->onesharp==0.0.0) (4.9.0)\n",
            "Requirement already satisfied: appnope in /Users/lsm/Dropbox/book2025/jupyter-book-demo/.venv/lib/python3.8/site-packages (from IPython->onesharp==0.0.0) (0.1.4)\n",
            "Requirement already satisfied: python-dateutil>=2.8.2 in /Users/lsm/Dropbox/book2025/jupyter-book-demo/.venv/lib/python3.8/site-packages (from pandas->onesharp==0.0.0) (2.9.0.post0)\n",
            "Requirement already satisfied: pytz>=2020.1 in /Users/lsm/Dropbox/book2025/jupyter-book-demo/.venv/lib/python3.8/site-packages (from pandas->onesharp==0.0.0) (2024.2)\n",
            "Requirement already satisfied: tzdata>=2022.1 in /Users/lsm/Dropbox/book2025/jupyter-book-demo/.venv/lib/python3.8/site-packages (from pandas->onesharp==0.0.0) (2024.2)\n",
            "Requirement already satisfied: parso<0.9.0,>=0.8.4 in /Users/lsm/Dropbox/book2025/jupyter-book-demo/.venv/lib/python3.8/site-packages (from jedi>=0.16->IPython->onesharp==0.0.0) (0.8.4)\n",
            "Requirement already satisfied: ptyprocess>=0.5 in /Users/lsm/Dropbox/book2025/jupyter-book-demo/.venv/lib/python3.8/site-packages (from pexpect>4.3->IPython->onesharp==0.0.0) (0.7.0)\n",
            "Requirement already satisfied: wcwidth in /Users/lsm/Dropbox/book2025/jupyter-book-demo/.venv/lib/python3.8/site-packages (from prompt-toolkit!=3.0.37,<3.1.0,>=3.0.30->IPython->onesharp==0.0.0) (0.2.13)\n",
            "Requirement already satisfied: six>=1.5 in /Users/lsm/Dropbox/book2025/jupyter-book-demo/.venv/lib/python3.8/site-packages (from python-dateutil>=2.8.2->pandas->onesharp==0.0.0) (1.17.0)\n",
            "Requirement already satisfied: executing>=1.2.0 in /Users/lsm/Dropbox/book2025/jupyter-book-demo/.venv/lib/python3.8/site-packages (from stack-data->IPython->onesharp==0.0.0) (2.1.0)\n",
            "Requirement already satisfied: asttokens>=2.1.0 in /Users/lsm/Dropbox/book2025/jupyter-book-demo/.venv/lib/python3.8/site-packages (from stack-data->IPython->onesharp==0.0.0) (3.0.0)\n",
            "Requirement already satisfied: pure-eval in /Users/lsm/Dropbox/book2025/jupyter-book-demo/.venv/lib/python3.8/site-packages (from stack-data->IPython->onesharp==0.0.0) (0.2.3)\n"
          ]
        }
      ],
      "source": [
        "!python -m pip install -U setuptools\n",
        "!python -m pip install -U git+https://github.com/lmoss/onesharp.git@main\n",
        "from onesharp.interpreter.interpreter import *"
      ]
    },
    {
      "cell_type": "markdown",
      "metadata": {
        "id": "Q1NfvunUI9ui"
      },
      "source": [
        "## move_2_1\n",
        "\n",
        "The first is a program called ```move_2_1```.   It is designed to move the contents of R2 onto the end of R1, emptying out R2 in the process.  Written out in full it is \n",
        "\n",
        "```11#####111111###111###1##1111####1#111111####```\n",
        "\n",
        "But we have defined ```move_2_1``` to be this program, and so you can run it as shown below.\n",
        "\n",
        "You can try the program by entering the following line.   In it\n"
      ]
    },
    {
      "cell_type": "code",
      "execution_count": 3,
      "metadata": {
        "colab": {
          "base_uri": "https://localhost:8080/",
          "height": 35
        },
        "id": "JnrcdeAl_Kmm",
        "outputId": "3f228e38-08a4-4272-c30d-0d1a03639eab"
      },
      "outputs": [
        {
          "data": {
            "text/plain": [
              "'11#####1##11111'"
            ]
          },
          "execution_count": 3,
          "metadata": {},
          "output_type": "execute_result"
        }
      ],
      "source": [
        "onesharp(move_2_1, ['11#','####1##11111'])"
      ]
    },
    {
      "cell_type": "markdown",
      "metadata": {
        "id": "ZEn2WieG_RJY"
      },
      "source": [
        "The words in the brackets are the contents of registers 1 and 2 when we start.  Again, our program moved the contents of R2 onto the end of R1, emptying R2.  You should want to change the opening contents of R1 and R2 in the cell above before going on."
      ]
    },
    {
      "cell_type": "markdown",
      "metadata": {
        "id": "0YHJpDX7_pDf"
      },
      "source": [
        "(content:parsing)=\n",
        "It is hard to understand a program of $\\one\\hash$, but we have tools to help.  First, we can *parse* the program.  Parsing means dividing the program into instructions."
      ]
    },
    {
      "cell_type": "code",
      "execution_count": 4,
      "metadata": {
        "colab": {
          "base_uri": "https://localhost:8080/"
        },
        "id": "vc_brPCuG_qG",
        "outputId": "a8c37f98-ab93-451e-ae5b-29dc38ef68db"
      },
      "outputs": [
        {
          "data": {
            "text/plain": [
              "['11#####', '111111###', '111###', '1##', '1111####', '1#', '111111####']"
            ]
          },
          "execution_count": 4,
          "metadata": {},
          "output_type": "execute_result"
        }
      ],
      "source": [
        "parse(move_2_1)"
      ]
    },
    {
      "cell_type": "markdown",
      "metadata": {
        "id": "ezY3wZ1BHCq_"
      },
      "source": [
        "Even better, we can get an parse with glosses, as follows:"
      ]
    },
    {
      "cell_type": "code",
      "execution_count": 5,
      "metadata": {
        "colab": {
          "base_uri": "https://localhost:8080/",
          "height": 269
        },
        "id": "S-4FiMeLHFcP",
        "outputId": "182a9974-e843-4eb4-f32c-ece4236b9eca"
      },
      "outputs": [
        {
          "ename": "ImportError",
          "evalue": "Missing optional dependency 'Jinja2'. DataFrame.style requires jinja2. Use pip or conda to install Jinja2.",
          "output_type": "error",
          "traceback": [
            "\u001b[0;31m---------------------------------------------------------------------------\u001b[0m",
            "\u001b[0;31mModuleNotFoundError\u001b[0m                       Traceback (most recent call last)",
            "File \u001b[0;32m~/Dropbox/book2025/jupyter-book-demo/.venv/lib/python3.8/site-packages/pandas/compat/_optional.py:142\u001b[0m, in \u001b[0;36mimport_optional_dependency\u001b[0;34m(name, extra, errors, min_version)\u001b[0m\n\u001b[1;32m    141\u001b[0m \u001b[39mtry\u001b[39;00m:\n\u001b[0;32m--> 142\u001b[0m     module \u001b[39m=\u001b[39m importlib\u001b[39m.\u001b[39;49mimport_module(name)\n\u001b[1;32m    143\u001b[0m \u001b[39mexcept\u001b[39;00m \u001b[39mImportError\u001b[39;00m:\n",
            "File \u001b[0;32m/Library/Developer/CommandLineTools/Library/Frameworks/Python3.framework/Versions/3.8/lib/python3.8/importlib/__init__.py:127\u001b[0m, in \u001b[0;36mimport_module\u001b[0;34m(name, package)\u001b[0m\n\u001b[1;32m    126\u001b[0m         level \u001b[39m+\u001b[39m\u001b[39m=\u001b[39m \u001b[39m1\u001b[39m\n\u001b[0;32m--> 127\u001b[0m \u001b[39mreturn\u001b[39;00m _bootstrap\u001b[39m.\u001b[39;49m_gcd_import(name[level:], package, level)\n",
            "File \u001b[0;32m<frozen importlib._bootstrap>:1014\u001b[0m, in \u001b[0;36m_gcd_import\u001b[0;34m(name, package, level)\u001b[0m\n",
            "File \u001b[0;32m<frozen importlib._bootstrap>:991\u001b[0m, in \u001b[0;36m_find_and_load\u001b[0;34m(name, import_)\u001b[0m\n",
            "File \u001b[0;32m<frozen importlib._bootstrap>:973\u001b[0m, in \u001b[0;36m_find_and_load_unlocked\u001b[0;34m(name, import_)\u001b[0m\n",
            "\u001b[0;31mModuleNotFoundError\u001b[0m: No module named 'jinja2'",
            "\nDuring handling of the above exception, another exception occurred:\n",
            "\u001b[0;31mImportError\u001b[0m                               Traceback (most recent call last)",
            "Cell \u001b[0;32mIn[5], line 1\u001b[0m\n\u001b[0;32m----> 1\u001b[0m parse_explain(move_2_1)\n",
            "File \u001b[0;32m~/Dropbox/book2025/jupyter-book-demo/.venv/lib/python3.8/site-packages/onesharp/interpreter/interpreter.py:305\u001b[0m, in \u001b[0;36mparse_explain\u001b[0;34m(prog)\u001b[0m\n\u001b[1;32m    303\u001b[0m             styler\u001b[39m.\u001b[39mset_properties(\u001b[39m*\u001b[39m\u001b[39m*\u001b[39m{\u001b[39m'\u001b[39m\u001b[39mtext-align\u001b[39m\u001b[39m'\u001b[39m: \u001b[39m'\u001b[39m\u001b[39mleft\u001b[39m\u001b[39m'\u001b[39m})\n\u001b[1;32m    304\u001b[0m             \u001b[39mreturn\u001b[39;00m styler\n\u001b[0;32m--> 305\u001b[0m display(df\u001b[39m.\u001b[39;49mstyle\u001b[39m.\u001b[39mpipe(make_pretty))\n",
            "File \u001b[0;32m~/Dropbox/book2025/jupyter-book-demo/.venv/lib/python3.8/site-packages/pandas/core/frame.py:1291\u001b[0m, in \u001b[0;36mDataFrame.style\u001b[0;34m(self)\u001b[0m\n\u001b[1;32m   1279\u001b[0m \u001b[39m@property\u001b[39m\n\u001b[1;32m   1280\u001b[0m \u001b[39mdef\u001b[39;00m \u001b[39mstyle\u001b[39m(\u001b[39mself\u001b[39m) \u001b[39m-\u001b[39m\u001b[39m>\u001b[39m Styler:\n\u001b[1;32m   1281\u001b[0m \u001b[39m    \u001b[39m\u001b[39m\"\"\"\u001b[39;00m\n\u001b[1;32m   1282\u001b[0m \u001b[39m    Returns a Styler object.\u001b[39;00m\n\u001b[1;32m   1283\u001b[0m \n\u001b[0;32m   (...)\u001b[0m\n\u001b[1;32m   1289\u001b[0m \u001b[39m        data with HTML and CSS.\u001b[39;00m\n\u001b[1;32m   1290\u001b[0m \u001b[39m    \"\"\"\u001b[39;00m\n\u001b[0;32m-> 1291\u001b[0m     \u001b[39mfrom\u001b[39;00m \u001b[39mpandas\u001b[39;00m\u001b[39m.\u001b[39;00m\u001b[39mio\u001b[39;00m\u001b[39m.\u001b[39;00m\u001b[39mformats\u001b[39;00m\u001b[39m.\u001b[39;00m\u001b[39mstyle\u001b[39;00m \u001b[39mimport\u001b[39;00m Styler\n\u001b[1;32m   1293\u001b[0m     \u001b[39mreturn\u001b[39;00m Styler(\u001b[39mself\u001b[39m)\n",
            "File \u001b[0;32m~/Dropbox/book2025/jupyter-book-demo/.venv/lib/python3.8/site-packages/pandas/io/formats/style.py:56\u001b[0m\n\u001b[1;32m     52\u001b[0m \u001b[39mfrom\u001b[39;00m \u001b[39mpandas\u001b[39;00m\u001b[39m.\u001b[39;00m\u001b[39mcore\u001b[39;00m\u001b[39m.\u001b[39;00m\u001b[39mshared_docs\u001b[39;00m \u001b[39mimport\u001b[39;00m _shared_docs\n\u001b[1;32m     54\u001b[0m \u001b[39mfrom\u001b[39;00m \u001b[39mpandas\u001b[39;00m\u001b[39m.\u001b[39;00m\u001b[39mio\u001b[39;00m\u001b[39m.\u001b[39;00m\u001b[39mformats\u001b[39;00m\u001b[39m.\u001b[39;00m\u001b[39mformat\u001b[39;00m \u001b[39mimport\u001b[39;00m save_to_buffer\n\u001b[0;32m---> 56\u001b[0m jinja2 \u001b[39m=\u001b[39m import_optional_dependency(\u001b[39m\"\u001b[39;49m\u001b[39mjinja2\u001b[39;49m\u001b[39m\"\u001b[39;49m, extra\u001b[39m=\u001b[39;49m\u001b[39m\"\u001b[39;49m\u001b[39mDataFrame.style requires jinja2.\u001b[39;49m\u001b[39m\"\u001b[39;49m)\n\u001b[1;32m     58\u001b[0m \u001b[39mfrom\u001b[39;00m \u001b[39mpandas\u001b[39;00m\u001b[39m.\u001b[39;00m\u001b[39mio\u001b[39;00m\u001b[39m.\u001b[39;00m\u001b[39mformats\u001b[39;00m\u001b[39m.\u001b[39;00m\u001b[39mstyle_render\u001b[39;00m \u001b[39mimport\u001b[39;00m (\n\u001b[1;32m     59\u001b[0m     CSSProperties,\n\u001b[1;32m     60\u001b[0m     CSSStyles,\n\u001b[0;32m   (...)\u001b[0m\n\u001b[1;32m     68\u001b[0m     refactor_levels,\n\u001b[1;32m     69\u001b[0m )\n\u001b[1;32m     71\u001b[0m \u001b[39mif\u001b[39;00m TYPE_CHECKING:\n",
            "File \u001b[0;32m~/Dropbox/book2025/jupyter-book-demo/.venv/lib/python3.8/site-packages/pandas/compat/_optional.py:145\u001b[0m, in \u001b[0;36mimport_optional_dependency\u001b[0;34m(name, extra, errors, min_version)\u001b[0m\n\u001b[1;32m    143\u001b[0m \u001b[39mexcept\u001b[39;00m \u001b[39mImportError\u001b[39;00m:\n\u001b[1;32m    144\u001b[0m     \u001b[39mif\u001b[39;00m errors \u001b[39m==\u001b[39m \u001b[39m\"\u001b[39m\u001b[39mraise\u001b[39m\u001b[39m\"\u001b[39m:\n\u001b[0;32m--> 145\u001b[0m         \u001b[39mraise\u001b[39;00m \u001b[39mImportError\u001b[39;00m(msg)\n\u001b[1;32m    146\u001b[0m     \u001b[39mreturn\u001b[39;00m \u001b[39mNone\u001b[39;00m\n\u001b[1;32m    148\u001b[0m \u001b[39m# Handle submodules: if we have submodule, grab parent module from sys.modules\u001b[39;00m\n",
            "\u001b[0;31mImportError\u001b[0m: Missing optional dependency 'Jinja2'. DataFrame.style requires jinja2. Use pip or conda to install Jinja2."
          ]
        }
      ],
      "source": [
        "parse_explain(move_2_1)"
      ]
    },
    {
      "cell_type": "markdown",
      "metadata": {
        "id": "iv_DHKDpHK1A"
      },
      "source": [
        "The program ```move_2_1``` is a loop, and we can further add to the explanations in the chart.\n"
      ]
    },
    {
      "cell_type": "code",
      "execution_count": 6,
      "metadata": {
        "cellView": "form",
        "colab": {
          "base_uri": "https://localhost:8080/",
          "height": 269
        },
        "id": "r0RbyVhEHLNl",
        "outputId": "a7cdbc5d-2467-4373-f008-083cdbdbbfa1"
      },
      "outputs": [
        {
          "ename": "ImportError",
          "evalue": "Missing optional dependency 'Jinja2'. DataFrame.style requires jinja2. Use pip or conda to install Jinja2.",
          "output_type": "error",
          "traceback": [
            "\u001b[0;31m---------------------------------------------------------------------------\u001b[0m",
            "\u001b[0;31mModuleNotFoundError\u001b[0m                       Traceback (most recent call last)",
            "File \u001b[0;32m~/Dropbox/book2025/jupyter-book-demo/.venv/lib/python3.8/site-packages/pandas/compat/_optional.py:142\u001b[0m, in \u001b[0;36mimport_optional_dependency\u001b[0;34m(name, extra, errors, min_version)\u001b[0m\n\u001b[1;32m    141\u001b[0m \u001b[39mtry\u001b[39;00m:\n\u001b[0;32m--> 142\u001b[0m     module \u001b[39m=\u001b[39m importlib\u001b[39m.\u001b[39;49mimport_module(name)\n\u001b[1;32m    143\u001b[0m \u001b[39mexcept\u001b[39;00m \u001b[39mImportError\u001b[39;00m:\n",
            "File \u001b[0;32m/Library/Developer/CommandLineTools/Library/Frameworks/Python3.framework/Versions/3.8/lib/python3.8/importlib/__init__.py:127\u001b[0m, in \u001b[0;36mimport_module\u001b[0;34m(name, package)\u001b[0m\n\u001b[1;32m    126\u001b[0m         level \u001b[39m+\u001b[39m\u001b[39m=\u001b[39m \u001b[39m1\u001b[39m\n\u001b[0;32m--> 127\u001b[0m \u001b[39mreturn\u001b[39;00m _bootstrap\u001b[39m.\u001b[39;49m_gcd_import(name[level:], package, level)\n",
            "File \u001b[0;32m<frozen importlib._bootstrap>:1014\u001b[0m, in \u001b[0;36m_gcd_import\u001b[0;34m(name, package, level)\u001b[0m\n",
            "File \u001b[0;32m<frozen importlib._bootstrap>:991\u001b[0m, in \u001b[0;36m_find_and_load\u001b[0;34m(name, import_)\u001b[0m\n",
            "File \u001b[0;32m<frozen importlib._bootstrap>:973\u001b[0m, in \u001b[0;36m_find_and_load_unlocked\u001b[0;34m(name, import_)\u001b[0m\n",
            "\u001b[0;31mModuleNotFoundError\u001b[0m: No module named 'jinja2'",
            "\nDuring handling of the above exception, another exception occurred:\n",
            "\u001b[0;31mImportError\u001b[0m                               Traceback (most recent call last)",
            "Cell \u001b[0;32mIn[6], line 13\u001b[0m\n\u001b[1;32m     11\u001b[0m df \u001b[39m=\u001b[39m pd\u001b[39m.\u001b[39mDataFrame(j,columns\u001b[39m=\u001b[39m[\u001b[39m\"\u001b[39m\u001b[39minstruction\u001b[39m\u001b[39m\"\u001b[39m, \u001b[39m'\u001b[39m\u001b[39mexplanation\u001b[39m\u001b[39m'\u001b[39m])\n\u001b[1;32m     12\u001b[0m df\u001b[39m.\u001b[39mindex \u001b[39m=\u001b[39m np\u001b[39m.\u001b[39marange(\u001b[39m1\u001b[39m, \u001b[39mlen\u001b[39m(df) \u001b[39m+\u001b[39m \u001b[39m1\u001b[39m)\n\u001b[0;32m---> 13\u001b[0m df\u001b[39m.\u001b[39;49mstyle\u001b[39m.\u001b[39mset_properties(\u001b[39m*\u001b[39m\u001b[39m*\u001b[39m{\u001b[39m'\u001b[39m\u001b[39mborder\u001b[39m\u001b[39m'\u001b[39m: \u001b[39m'\u001b[39m\u001b[39m1.3px solid green\u001b[39m\u001b[39m'\u001b[39m,\n\u001b[1;32m     14\u001b[0m                           \u001b[39m'\u001b[39m\u001b[39mcolor\u001b[39m\u001b[39m'\u001b[39m: \u001b[39m'\u001b[39m\u001b[39mmagenta\u001b[39m\u001b[39m'\u001b[39m})\n\u001b[1;32m     15\u001b[0m n \u001b[39m=\u001b[39m \u001b[39mlen\u001b[39m(df\u001b[39m.\u001b[39mcolumns)\n\u001b[1;32m     16\u001b[0m df\u001b[39m.\u001b[39mstyle\u001b[39m.\u001b[39mset_properties(\u001b[39m*\u001b[39m\u001b[39m*\u001b[39m{\u001b[39m'\u001b[39m\u001b[39mtext-align\u001b[39m\u001b[39m'\u001b[39m: \u001b[39m'\u001b[39m\u001b[39mleft\u001b[39m\u001b[39m'\u001b[39m})\n",
            "File \u001b[0;32m~/Dropbox/book2025/jupyter-book-demo/.venv/lib/python3.8/site-packages/pandas/core/frame.py:1291\u001b[0m, in \u001b[0;36mDataFrame.style\u001b[0;34m(self)\u001b[0m\n\u001b[1;32m   1279\u001b[0m \u001b[39m@property\u001b[39m\n\u001b[1;32m   1280\u001b[0m \u001b[39mdef\u001b[39;00m \u001b[39mstyle\u001b[39m(\u001b[39mself\u001b[39m) \u001b[39m-\u001b[39m\u001b[39m>\u001b[39m Styler:\n\u001b[1;32m   1281\u001b[0m \u001b[39m    \u001b[39m\u001b[39m\"\"\"\u001b[39;00m\n\u001b[1;32m   1282\u001b[0m \u001b[39m    Returns a Styler object.\u001b[39;00m\n\u001b[1;32m   1283\u001b[0m \n\u001b[0;32m   (...)\u001b[0m\n\u001b[1;32m   1289\u001b[0m \u001b[39m        data with HTML and CSS.\u001b[39;00m\n\u001b[1;32m   1290\u001b[0m \u001b[39m    \"\"\"\u001b[39;00m\n\u001b[0;32m-> 1291\u001b[0m     \u001b[39mfrom\u001b[39;00m \u001b[39mpandas\u001b[39;00m\u001b[39m.\u001b[39;00m\u001b[39mio\u001b[39;00m\u001b[39m.\u001b[39;00m\u001b[39mformats\u001b[39;00m\u001b[39m.\u001b[39;00m\u001b[39mstyle\u001b[39;00m \u001b[39mimport\u001b[39;00m Styler\n\u001b[1;32m   1293\u001b[0m     \u001b[39mreturn\u001b[39;00m Styler(\u001b[39mself\u001b[39m)\n",
            "File \u001b[0;32m~/Dropbox/book2025/jupyter-book-demo/.venv/lib/python3.8/site-packages/pandas/io/formats/style.py:56\u001b[0m\n\u001b[1;32m     52\u001b[0m \u001b[39mfrom\u001b[39;00m \u001b[39mpandas\u001b[39;00m\u001b[39m.\u001b[39;00m\u001b[39mcore\u001b[39;00m\u001b[39m.\u001b[39;00m\u001b[39mshared_docs\u001b[39;00m \u001b[39mimport\u001b[39;00m _shared_docs\n\u001b[1;32m     54\u001b[0m \u001b[39mfrom\u001b[39;00m \u001b[39mpandas\u001b[39;00m\u001b[39m.\u001b[39;00m\u001b[39mio\u001b[39;00m\u001b[39m.\u001b[39;00m\u001b[39mformats\u001b[39;00m\u001b[39m.\u001b[39;00m\u001b[39mformat\u001b[39;00m \u001b[39mimport\u001b[39;00m save_to_buffer\n\u001b[0;32m---> 56\u001b[0m jinja2 \u001b[39m=\u001b[39m import_optional_dependency(\u001b[39m\"\u001b[39;49m\u001b[39mjinja2\u001b[39;49m\u001b[39m\"\u001b[39;49m, extra\u001b[39m=\u001b[39;49m\u001b[39m\"\u001b[39;49m\u001b[39mDataFrame.style requires jinja2.\u001b[39;49m\u001b[39m\"\u001b[39;49m)\n\u001b[1;32m     58\u001b[0m \u001b[39mfrom\u001b[39;00m \u001b[39mpandas\u001b[39;00m\u001b[39m.\u001b[39;00m\u001b[39mio\u001b[39;00m\u001b[39m.\u001b[39;00m\u001b[39mformats\u001b[39;00m\u001b[39m.\u001b[39;00m\u001b[39mstyle_render\u001b[39;00m \u001b[39mimport\u001b[39;00m (\n\u001b[1;32m     59\u001b[0m     CSSProperties,\n\u001b[1;32m     60\u001b[0m     CSSStyles,\n\u001b[0;32m   (...)\u001b[0m\n\u001b[1;32m     68\u001b[0m     refactor_levels,\n\u001b[1;32m     69\u001b[0m )\n\u001b[1;32m     71\u001b[0m \u001b[39mif\u001b[39;00m TYPE_CHECKING:\n",
            "File \u001b[0;32m~/Dropbox/book2025/jupyter-book-demo/.venv/lib/python3.8/site-packages/pandas/compat/_optional.py:145\u001b[0m, in \u001b[0;36mimport_optional_dependency\u001b[0;34m(name, extra, errors, min_version)\u001b[0m\n\u001b[1;32m    143\u001b[0m \u001b[39mexcept\u001b[39;00m \u001b[39mImportError\u001b[39;00m:\n\u001b[1;32m    144\u001b[0m     \u001b[39mif\u001b[39;00m errors \u001b[39m==\u001b[39m \u001b[39m\"\u001b[39m\u001b[39mraise\u001b[39m\u001b[39m\"\u001b[39m:\n\u001b[0;32m--> 145\u001b[0m         \u001b[39mraise\u001b[39;00m \u001b[39mImportError\u001b[39;00m(msg)\n\u001b[1;32m    146\u001b[0m     \u001b[39mreturn\u001b[39;00m \u001b[39mNone\u001b[39;00m\n\u001b[1;32m    148\u001b[0m \u001b[39m# Handle submodules: if we have submodule, grab parent module from sys.modules\u001b[39;00m\n",
            "\u001b[0;31mImportError\u001b[0m: Missing optional dependency 'Jinja2'. DataFrame.style requires jinja2. Use pip or conda to install Jinja2."
          ]
        }
      ],
      "source": [
        "#@title\n",
        "j = [['11#####', 'cases on R2', ],\n",
        " ['111111###', \"register 2 is empty: go forward 6 to instruction 8 (we're done)\"],\n",
        " ['111###', 'first symbol is a 1: go forward 3 to instruction 6 (to the tan section)'],\n",
        " ['1##', 'first symbol is a #: add # to R1'],\n",
        " ['1111####', 'go backward 4 to instruction 1 (to the top)'],\n",
        " ['1#', 'add 1 to R1'],\n",
        " ['111111####', 'go backward 6 to instruction 1 (to the top)']\n",
        "]\n",
        " \n",
        "df = pd.DataFrame(j,columns=[\"instruction\", 'explanation'])\n",
        "df.index = np.arange(1, len(df) + 1)\n",
        "df.style.set_properties(**{'border': '1.3px solid green',\n",
        "                          'color': 'magenta'})\n",
        "n = len(df.columns)\n",
        "df.style.set_properties(**{'text-align': 'left'})\n",
        "#df.style.apply(lambda x: [\"background-color: red\"]*n if x['instruction']== 'Reading' else [\"background-color: white\"]*n, axis = 1)\n",
        "#df.style.apply(lambda x: [\"background-color: #B0E0E6\"]*n if x['instruction'] in ['1##','1111####'] elif [\"background-color: #D4B48C\"]*n if x['instruction'] in ['1#','111111####'] else [\"background-color: #FFFFCC\"]*n, axis = 1)\n",
        "df.style.apply(lambda x: [\"background-color: #B0E0E6\"]*n if x['instruction'] in ['1##','1111####']  else [\"background-color: #FFFFCC\"]*n, axis = 1)\n",
        "df.style.apply(lambda x: \n",
        "               [\"background-color: #B0E0E6\"]*n if x['instruction'] in ['1##','1111####'] \n",
        "               else [\"background-color: #D4B48C\"]*n if x['instruction'] in ['1#','111111####']\n",
        "               else [\"background-color: #FFFFCC\"]*n, axis = 1)\n"
      ]
    },
    {
      "cell_type": "markdown",
      "metadata": {
        "id": "QTzah7w_HPuf"
      },
      "source": [
        "\n",
        "\n",
        "If R2 is empty, it goes to line 8.  Since the program itself only has 7 lines, this means that we have transferred *out* of the program.  We say that the program *halts* at that point.\n",
        "\n",
        "If the first symbol of R2 is a 1, then the second instruction after the case instruction at the top transfers us down to line 6. This part of the program would then add a 1 to R1 and return to the very beginning of the program.\n",
        "\n",
        "If the first symbol of R2 is a #, then we delete that # and go three steps forward, to line 4.  This part of the program would then add a # to R1 and return to the very beginning of the program.\n",
        "\n",
        "The point is that by going around loop repeatedly, we transfer the contents of R2 symbol-by-symbol to R1.\n",
        "Similarly, whenever m and n are different numbers, we can build a program ```move_m_n```. This program would write the contents of Rm onto the end of Rn, emptying Rm in the process.\n",
        "\n",
        "\n",
        "\n"
      ]
    },
    {
      "cell_type": "markdown",
      "metadata": {
        "id": "zwwhQ5vhHSTG"
      },
      "source": [
        "## Modifying ```move_2_1```\n",
        "\n",
        "Suppose we want to modify ```move_2_1``` to get ```move_3_4```, a program which would copy the contents of R3 onto the end of R4 (and empty R4) in the process. Here is a way to do this which shows off some command-line tools that are part of the working environment of this course."
      ]
    },
    {
      "cell_type": "code",
      "execution_count": null,
      "metadata": {
        "id": "OF19Znw8HW6K"
      },
      "outputs": [],
      "source": [
        "parse(move_2_1)"
      ]
    },
    {
      "cell_type": "markdown",
      "metadata": {
        "id": "v3a4Q88MHZfr"
      },
      "source": [
        "When you enter the cell above, you get the program ```move_2_1``` as a Python *list* of instructions. We have seen the explanation of this parse above.  What we want to do in ```move_3_4``` is to change the overall \"case\" instruction in the beginning from ```11#####``` to ```111#####```.   And each time our program writes to a register, we want that register to be R4, not R1.  So we make two changes."
      ]
    },
    {
      "cell_type": "code",
      "execution_count": null,
      "metadata": {
        "id": "nUBPolu9HbSo"
      },
      "outputs": [],
      "source": [
        "unparse(pre_program)"
      ]
    },
    {
      "cell_type": "markdown",
      "metadata": {
        "id": "4lB7XVf6HfvT"
      },
      "source": [
        "We can check this out by entering it into the interpreter.  We could either copy the output line (without the quotes), and go up to the top of this notebook.  Alternatively, we could move the interpreter down to here using an up-arrow command that you will need to find.\n"
      ]
    },
    {
      "cell_type": "markdown",
      "metadata": {
        "id": "-6HzTRCIHirm"
      },
      "source": [
        "```{exercise}\n",
        "Write a program which takes the contents of R1 and adds them to the ends of *both* R2 and R3.\n",
        "```"
      ]
    },
    {
      "cell_type": "markdown",
      "metadata": {
        "id": "RwKmd0ubHnBp"
      },
      "source": [
        "```{exercise}\n",
        "Write a program that clears out R1, leaving it empty.\n",
        "```"
      ]
    },
    {
      "cell_type": "markdown",
      "metadata": {
        "id": "vGMfoJ02HqNX"
      },
      "source": [
        "```{exercise}\n",
        "Write a program that clears R3 and then swaps the contents of R1 and R2 (using the now-empty R3).\n",
        "```\n"
      ]
    },
    {
      "cell_type": "markdown",
      "metadata": {
        "id": "F3QwMdfwHtDq"
      },
      "source": [
        "```{exercise}\n",
        "Write a program $p$ that adds a $\\one$ to the beginning of R1, assuming that R2 is empty. (For example, if R1 has $\\hash\\hash\\one$ to start, then running $p$ would result in R1 having $\\one\\hash\\hash\\one$.) Of course, your program may use R2!\n",
        "```"
      ]
    },
    {
      "cell_type": "markdown",
      "metadata": {
        "id": "Yo0sbjZhEPD7"
      },
      "source": [
        "## copy\n",
        "\n",
        "The second program in this notebook is called ```copy```.\n",
        "Like ```move```, the ```copy``` program is actually an infinite batch of programs. \n",
        "\n",
        "```{attention}\n",
        "The difference between <i>moving</i> and <i>copying</i>\n",
        "for us is that when a register's contents are moved, the\n",
        "register is left empty; but if the contents are copied,\n",
        "then the register is left at the end with exactly what it had\n",
        "at the beginning.\n",
        "```\n",
        "\n",
        "In order to copy in this way, we need an auxilliary register.\n",
        "So while the ```move``` programs had two registers in their names, the ```copy``` programs have three.\n",
        "\n",
        "<br><p>\n",
        "Here is the idea behind copying Rm to Rn.   We use\n",
        "an auxilliary register, say Rp.  We move Rm into Rn and Rp\n",
        "at the same time, and then be move Rp back to Rm.\n",
        "Of course, when we do this, we should have Rp empty to start\n",
        "with.   \n",
        "<p>\n",
        "Here is our program when m = 1, n = 2, p = 3:"
      ]
    },
    {
      "cell_type": "code",
      "execution_count": null,
      "metadata": {
        "id": "2_qToGIXEpts"
      },
      "outputs": [],
      "source": [
        "copy_1_2_3"
      ]
    },
    {
      "cell_type": "markdown",
      "metadata": {
        "id": "5hyC35yaEKLl"
      },
      "source": [
        "## write"
      ]
    },
    {
      "cell_type": "markdown",
      "metadata": {
        "id": "UDDObujTBXCl"
      },
      "source": [
        "We construct with \n",
        "a program $\\writeprog$ with \n",
        "the following properties:\n",
        "\n",
        "1. When $\\writeprog$ is started with $x$ in R1 \n",
        "and R2 empty, we eventually halt  with a\n",
        "word $y$\n",
        "in $\\Rone$ and all other registers empty.\n",
        "\n",
        "2. Then $y$ is a program, and running\n",
        "$y$ with $\\Rone$ empty results in $x$ back in $\\Rone$ and all\n",
        "other registers empty."
      ]
    },
    {
      "cell_type": "code",
      "execution_count": null,
      "metadata": {
        "colab": {
          "base_uri": "https://localhost:8080/",
          "height": 35
        },
        "id": "t6q0JLmoBjf3",
        "outputId": "cdcc65f6-2ef1-4794-c1a1-65e648c73b8f"
      },
      "outputs": [
        {
          "data": {
            "application/vnd.google.colaboratory.intrinsic+json": {
              "type": "string"
            },
            "text/plain": [
              "'1#####111111111###11111###11#11##11##111111####11#11##111111111####11#####111111###111###1##1111####1#111111####'"
            ]
          },
          "execution_count": 10,
          "metadata": {},
          "output_type": "execute_result"
        }
      ],
      "source": [
        "write"
      ]
    },
    {
      "cell_type": "markdown",
      "metadata": {
        "id": "KRZFyRqsBmnY"
      },
      "source": [
        "Here is the explicated parse:"
      ]
    },
    {
      "cell_type": "code",
      "execution_count": null,
      "metadata": {
        "id": "sz9wLnNOBo7h"
      },
      "outputs": [],
      "source": [
        "parse_explain(write)"
      ]
    },
    {
      "cell_type": "markdown",
      "metadata": {
        "id": "VAUQmglUB1D5"
      },
      "source": [
        "Even more informatively, here is a table:\n",
        "\n",
        "<CENTER>\n",
        "<TABLE>\n",
        "        <TR BGCOLOR=\"#FFFFCC\">\n",
        "                <TD>1#####</TD> <TD>Cases on R1</TD></TR>\n",
        "        <TR BGCOLOR=\"#FFFFCC\">\n",
        "                <TD>111111111###</TD> <TD>Go forward 9:\n",
        "                  to move<sub>2,1</sub> part</TD>  </tr>\n",
        "        <TR BGCOLOR=\"#FFFFCC\"><TD>11111###</TD><TD>Go forward 5:\n",
        "to the brown part</TD>  \n",
        "        </TR>\n",
        "         <TR  BGCOLOR=\"#B0E0E6\">\n",
        "                <TD>11#</TD> <TD>Add 1 to R2: 1## adds # to R1</TD></tr>\n",
        "         <TR  BGCOLOR=\"#B0E0E6\">\n",
        "                <TD>11##</TD> <TD>Add # to R2</TD></tr>   \n",
        "         <TR  BGCOLOR=\"#B0E0E6\">\n",
        "                <TD>11##</TD> <TD>Add # to R2</TD></tr>   \n",
        "         <TR  BGCOLOR=\"#B0E0E6\">\n",
        "                <TD>111111####</TD> <TD>Go backward 6 (to\n",
        "the top)</TD> </TR>\n",
        "         <TR  BGCOLOR=\"#D4B48C\">\n",
        "                <TD>11#</TD> <TD>Add 1 to R2: 1# adds 1 to R1</TD></tr>\n",
        "         <TR  BGCOLOR=\"#D4B48C\">\n",
        "                <TD>11##</TD> <TD>Add # to R2</TD></tr>\n",
        "         <TR  BGCOLOR=\"#D4B48C\">\n",
        "                <TD>111111111####</TD> <TD>Go backward 9\n",
        "(to the top)</TD>  \n",
        "        </TR>\n",
        "        <TR BGCOLOR=\"#FFFFCC\">\n",
        "             <TD> move<sub>2,1</sub></TD><td> from earlier in this notebook </td></TR>\n",
        "</TABLE>        \n",
        "</CENTER>"
      ]
    },
    {
      "cell_type": "markdown",
      "metadata": {
        "id": "fHwPPO5uCHEe"
      },
      "source": [
        "It should be emphasized that $\\writeprog$ reads from R1 \n",
        "and writes to R2; it  makes no\n",
        "use of any other register."
      ]
    },
    {
      "cell_type": "markdown",
      "metadata": {
        "id": "HMCCxIdhCRjS"
      },
      "source": [
        "```{exercise}\n",
        "Why is the result of running $\\writeprog$ on a word $x$  always a program,\n",
        "even if  $x$ is a word which is not a program?\n",
        "```"
      ]
    },
    {
      "cell_type": "markdown",
      "metadata": {
        "id": "5tzhskcfDPff"
      },
      "source": [
        "```{exercise}\n",
        "Modify $\\writeprog$\n",
        " to get a program $\\writetotwo$\n",
        "with the following feature:\n",
        " If $\\writetotwo$ is started with  $x$ in R1 \n",
        "and R2 empty, we eventually halt  with a\n",
        "word\n",
        "$y$\n",
        "in R2 and all other registers empty; moreover, running\n",
        "$y$  with R2 empty results in $x$ back in R2  (not R1) and all\n",
        "other registers empty.\n",
        "```"
      ]
    },
    {
      "cell_type": "markdown",
      "metadata": {
        "id": "h1qurP6ejmTN"
      },
      "source": [
        "# The $+$ notation on words\n",
        "\n",
        "```{prf:definition}\n",
        "If $x$ and $y$ are words, then $x + y$ is the *concatenation* of $x$ followed by $y$.  For example,\n",
        "\n",
        "$$\n",
        "\\one\\hash\\one + \\hash \\hash = \\one\\hash\\one  \\hash \\hash.\n",
        "$$\n",
        "\n",
        "This operation is associative: $x + (y+z) = (x+y) + z$.   \n",
        "\n",
        "The *empty word* $\\eps$ is an identity element for it:\n",
        "$x + \\eps = x = \\eps + x$.\n",
        "So we have a [*monoid*](https://en.wikipedia.org/wiki/Monoid)\n",
        "\n",
        "$$\n",
        "(\\words, +, \\eps)\n",
        "$$\n",
        "```\n",
        "\n",
        "This means that we can \"add\" programs (since they are words).  For example, let \n",
        "\n",
        "$$\n",
        "q = \\copyprog_{1,2,3} + \\moveprog_{2,1}\n",
        "$$\n",
        "\n",
        "This program $q$ would take the contents of register 1, copy it into register 2 (using register 3), and then move register 2 back to register 1.  So assuming that registers 2 and 3 were empty to begin with, running $q$ with $x$ in register $1$ would give us $x + x$ in register 1 at the end."
      ]
    },
    {
      "cell_type": "markdown",
      "metadata": {
        "id": "dJfue0k_DPtm"
      },
      "source": [
        "```{exercise}\n",
        "Let's take a word $x$ and run $\\writeprog$ on it.  Call the resulting program $p$.  If we run $p$ on a word $y$, which do we get: $x + y$ or $y + x$?\n",
        "```"
      ]
    }
  ],
  "metadata": {
    "colab": {
      "authorship_tag": "ABX9TyMIIgx/A+TCmazJW+rausKy",
      "include_colab_link": true,
      "provenance": []
    },
    "kernelspec": {
      "display_name": "Python 3",
      "name": "python3"
    },
    "language_info": {
      "codemirror_mode": {
        "name": "ipython",
        "version": 3
      },
      "file_extension": ".py",
      "mimetype": "text/x-python",
      "name": "python",
      "nbconvert_exporter": "python",
      "pygments_lexer": "ipython3",
      "version": "3.8.2"
    }
  },
  "nbformat": 4,
  "nbformat_minor": 0
}
